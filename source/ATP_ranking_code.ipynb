{
 "cells": [
  {
   "cell_type": "code",
   "execution_count": 14,
   "metadata": {},
   "outputs": [],
   "source": [
    "import pandas as pd\n",
    "import numpy as np\n",
    "import matplotlib.pyplot as plt\n",
    "import os"
   ]
  },
  {
   "cell_type": "code",
   "execution_count": 24,
   "metadata": {},
   "outputs": [
    {
     "name": "stdout",
     "output_type": "stream",
     "text": [
      "  tourney_id tourney_name surface  draw_size tourney_level  tourney_date  \\\n",
      "0  1968-2029       Dublin   Grass         32             A      19680708   \n",
      "1  1968-2029       Dublin   Grass         32             A      19680708   \n",
      "\n",
      "   match_num  winner_id winner_seed winner_entry  ... l_1stIn l_1stWon  \\\n",
      "0        270     112411         NaN          NaN  ...     NaN      NaN   \n",
      "1        271     126914         NaN          NaN  ...     NaN      NaN   \n",
      "\n",
      "   l_2ndWon l_SvGms  l_bpSaved  l_bpFaced winner_rank winner_rank_points  \\\n",
      "0       NaN     NaN        NaN        NaN         NaN                NaN   \n",
      "1       NaN     NaN        NaN        NaN         NaN                NaN   \n",
      "\n",
      "  loser_rank loser_rank_points  \n",
      "0        NaN               NaN  \n",
      "1        NaN               NaN  \n",
      "\n",
      "[2 rows x 49 columns]\n"
     ]
    }
   ],
   "source": [
    "# Directory where the CSV files are located\n",
    "directory = 'C:\\\\Users\\\\Otto\\\\OneDrive\\\\ATP-number\\\\data' \n",
    "\n",
    "# Start year and end year (inclusive)\n",
    "start_year = 1968\n",
    "end_year = 2023\n",
    "\n",
    "# Empty DataFrame to concatenate all the files\n",
    "all_atp_data_raw = pd.DataFrame()\n",
    "\n",
    "# Loop through the files\n",
    "for year in range(start_year, end_year + 1):\n",
    "    file_name = f\"atp_matches_{year}.csv\"\n",
    "    file_path = os.path.join(directory, file_name)\n",
    "    \n",
    "    # Check if the file exists\n",
    "    if os.path.isfile(file_path):\n",
    "        # Read the data from the file\n",
    "        atp_data_raw = pd.read_csv(file_path)\n",
    "        # Concatenate it into the all_data DataFrame\n",
    "        all_atp_data_raw = pd.concat([all_atp_data_raw, atp_data_raw], ignore_index=True)\n",
    "    else:\n",
    "        print(f\"File {file_name} does not exist.\")\n",
    "\n",
    "# all_data now contains the data from all the files\n",
    "\n",
    "print(all_atp_data_raw.head(2))"
   ]
  },
  {
   "cell_type": "code",
   "execution_count": 25,
   "metadata": {},
   "outputs": [
    {
     "data": {
      "text/plain": [
       "Index(['tourney_id', 'tourney_name', 'surface', 'draw_size', 'tourney_level',\n",
       "       'tourney_date', 'match_num', 'winner_id', 'winner_seed', 'winner_entry',\n",
       "       'winner_name', 'winner_hand', 'winner_ht', 'winner_ioc', 'winner_age',\n",
       "       'loser_id', 'loser_seed', 'loser_entry', 'loser_name', 'loser_hand',\n",
       "       'loser_ht', 'loser_ioc', 'loser_age', 'score', 'best_of', 'round',\n",
       "       'minutes', 'w_ace', 'w_df', 'w_svpt', 'w_1stIn', 'w_1stWon', 'w_2ndWon',\n",
       "       'w_SvGms', 'w_bpSaved', 'w_bpFaced', 'l_ace', 'l_df', 'l_svpt',\n",
       "       'l_1stIn', 'l_1stWon', 'l_2ndWon', 'l_SvGms', 'l_bpSaved', 'l_bpFaced',\n",
       "       'winner_rank', 'winner_rank_points', 'loser_rank', 'loser_rank_points'],\n",
       "      dtype='object')"
      ]
     },
     "execution_count": 25,
     "metadata": {},
     "output_type": "execute_result"
    }
   ],
   "source": [
    "all_atp_data_raw.columns\n"
   ]
  },
  {
   "cell_type": "code",
   "execution_count": 26,
   "metadata": {},
   "outputs": [
    {
     "name": "stdout",
     "output_type": "stream",
     "text": [
      "<class 'pandas.core.frame.DataFrame'>\n",
      "RangeIndex: 189882 entries, 0 to 189881\n",
      "Data columns (total 49 columns):\n",
      " #   Column              Non-Null Count   Dtype  \n",
      "---  ------              --------------   -----  \n",
      " 0   tourney_id          189882 non-null  object \n",
      " 1   tourney_name        189882 non-null  object \n",
      " 2   surface             187566 non-null  object \n",
      " 3   draw_size           189882 non-null  int64  \n",
      " 4   tourney_level       189882 non-null  object \n",
      " 5   tourney_date        189882 non-null  int64  \n",
      " 6   match_num           189882 non-null  int64  \n",
      " 7   winner_id           189882 non-null  int64  \n",
      " 8   winner_seed         70415 non-null   object \n",
      " 9   winner_entry        16529 non-null   object \n",
      " 10  winner_name         189882 non-null  object \n",
      " 11  winner_hand         189868 non-null  object \n",
      " 12  winner_ht           173552 non-null  float64\n",
      " 13  winner_ioc          189874 non-null  object \n",
      " 14  winner_age          188674 non-null  float64\n",
      " 15  loser_id            189882 non-null  int64  \n",
      " 16  loser_seed          35807 non-null   object \n",
      " 17  loser_entry         28108 non-null   object \n",
      " 18  loser_name          189882 non-null  object \n",
      " 19  loser_hand          189829 non-null  object \n",
      " 20  loser_ht            161006 non-null  float64\n",
      " 21  loser_ioc           189816 non-null  object \n",
      " 22  loser_age           185481 non-null  float64\n",
      " 23  score               189876 non-null  object \n",
      " 24  best_of             189882 non-null  int64  \n",
      " 25  round               189882 non-null  object \n",
      " 26  minutes             90972 non-null   float64\n",
      " 27  w_ace               93802 non-null   float64\n",
      " 28  w_df                93801 non-null   float64\n",
      " 29  w_svpt              93801 non-null   float64\n",
      " 30  w_1stIn             93801 non-null   float64\n",
      " 31  w_1stWon            93801 non-null   float64\n",
      " 32  w_2ndWon            93801 non-null   float64\n",
      " 33  w_SvGms             93802 non-null   float64\n",
      " 34  w_bpSaved           93801 non-null   float64\n",
      " 35  w_bpFaced           93801 non-null   float64\n",
      " 36  l_ace               93801 non-null   float64\n",
      " 37  l_df                93802 non-null   float64\n",
      " 38  l_svpt              93801 non-null   float64\n",
      " 39  l_1stIn             93801 non-null   float64\n",
      " 40  l_1stWon            93801 non-null   float64\n",
      " 41  l_2ndWon            93801 non-null   float64\n",
      " 42  l_SvGms             93802 non-null   float64\n",
      " 43  l_bpSaved           93801 non-null   float64\n",
      " 44  l_bpFaced           93801 non-null   float64\n",
      " 45  winner_rank         154878 non-null  float64\n",
      " 46  winner_rank_points  107655 non-null  float64\n",
      " 47  loser_rank          146507 non-null  float64\n",
      " 48  loser_rank_points   106027 non-null  float64\n",
      "dtypes: float64(27), int64(6), object(16)\n",
      "memory usage: 71.0+ MB\n"
     ]
    }
   ],
   "source": [
    "all_atp_data_raw.info()"
   ]
  },
  {
   "cell_type": "code",
   "execution_count": 27,
   "metadata": {},
   "outputs": [
    {
     "name": "stdout",
     "output_type": "stream",
     "text": [
      "<class 'pandas.core.frame.DataFrame'>\n",
      "RangeIndex: 189882 entries, 0 to 189881\n",
      "Data columns (total 10 columns):\n",
      " #   Column        Non-Null Count   Dtype  \n",
      "---  ------        --------------   -----  \n",
      " 0   tourney_id    189882 non-null  object \n",
      " 1   tourney_name  189882 non-null  object \n",
      " 2   tourney_date  189882 non-null  int64  \n",
      " 3   winner_id     189882 non-null  int64  \n",
      " 4   winner_name   189882 non-null  object \n",
      " 5   winner_rank   154878 non-null  float64\n",
      " 6   loser_id      189882 non-null  int64  \n",
      " 7   loser_name    189882 non-null  object \n",
      " 8   loser_rank    146507 non-null  float64\n",
      " 9   score         189876 non-null  object \n",
      "dtypes: float64(2), int64(3), object(5)\n",
      "memory usage: 14.5+ MB\n"
     ]
    }
   ],
   "source": [
    "## Get the columns tourney_id, tourney_date, winner_id, winner_name, winner_rank, loser_id, loser_name, loser_rank, score\n",
    "rankings_columns = ['tourney_id', 'tourney_name', 'tourney_date', 'winner_id', 'winner_name', 'winner_rank', 'loser_id', 'loser_name', 'loser_rank', 'score']\n",
    "\n",
    "all_atp_data = all_atp_data_raw[rankings_columns]\n",
    "\n",
    "all_atp_data.info()"
   ]
  },
  {
   "cell_type": "code",
   "execution_count": null,
   "metadata": {},
   "outputs": [],
   "source": []
  }
 ],
 "metadata": {
  "kernelspec": {
   "display_name": "Python 3",
   "language": "python",
   "name": "python3"
  },
  "language_info": {
   "codemirror_mode": {
    "name": "ipython",
    "version": 3
   },
   "file_extension": ".py",
   "mimetype": "text/x-python",
   "name": "python",
   "nbconvert_exporter": "python",
   "pygments_lexer": "ipython3",
   "version": "3.9.12"
  },
  "orig_nbformat": 4
 },
 "nbformat": 4,
 "nbformat_minor": 2
}
